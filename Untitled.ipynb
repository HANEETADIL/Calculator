{
 "cells": [
  {
   "cell_type": "code",
   "execution_count": 1,
   "id": "7f02ed55",
   "metadata": {},
   "outputs": [
    {
     "name": "stdout",
     "output_type": "stream",
     "text": [
      "Output : 0.4\n"
     ]
    }
   ],
   "source": [
    "def calculator(num1, num2, operation):\n",
    "    if operation == 'A':\n",
    "        return num1 + num2\n",
    "    elif operation == 'S':\n",
    "        return num1 - num2\n",
    "    elif operation == 'M':\n",
    "        return num1 * num2\n",
    "    elif operation == 'D':\n",
    "        return num1 / num2\n",
    "    else:\n",
    "        return \"Input Error\"\n",
    "\n",
    "print(\"Output :\",calculator(2, 5, 'D'))"
   ]
  },
  {
   "cell_type": "code",
   "execution_count": null,
   "id": "d00988ab",
   "metadata": {},
   "outputs": [],
   "source": []
  }
 ],
 "metadata": {
  "kernelspec": {
   "display_name": "Python 3 (ipykernel)",
   "language": "python",
   "name": "python3"
  },
  "language_info": {
   "codemirror_mode": {
    "name": "ipython",
    "version": 3
   },
   "file_extension": ".py",
   "mimetype": "text/x-python",
   "name": "python",
   "nbconvert_exporter": "python",
   "pygments_lexer": "ipython3",
   "version": "3.9.13"
  }
 },
 "nbformat": 4,
 "nbformat_minor": 5
}
